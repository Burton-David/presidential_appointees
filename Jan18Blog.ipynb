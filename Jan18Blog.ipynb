{
 "cells": [
  {
   "cell_type": "code",
   "execution_count": 24,
   "metadata": {
    "collapsed": true,
    "pycharm": {
     "is_executing": false
    }
   },
   "outputs": [],
   "source": [
    "import pandas as pd\n",
    "import seaborn as sns\n",
    "sns.set_style(\"whitegrid\")\n",
    "sns.set_context(\"paper\")"
   ]
  },
  {
   "cell_type": "code",
   "execution_count": 25,
   "outputs": [],
   "source": [
    "df = pd.read_csv('/Users/db/PycharmProjects/blog_Jan18/cabinet-turnover-datasets/cabinet-turnover.csv')"
   ],
   "metadata": {
    "collapsed": false,
    "pycharm": {
     "name": "#%%\n",
     "is_executing": false
    }
   }
  },
  {
   "cell_type": "code",
   "execution_count": 26,
   "outputs": [
    {
     "data": {
      "text/plain": "president     object\nposition      object\nappointee     object\nstart         object\nend           object\nlength        object\ndays         float64\ndtype: object"
     },
     "metadata": {},
     "output_type": "execute_result",
     "execution_count": 26
    }
   ],
   "source": [
    "df.dtypes"
   ],
   "metadata": {
    "collapsed": false,
    "pycharm": {
     "name": "#%%\n",
     "is_executing": false
    }
   }
  },
  {
   "cell_type": "code",
   "execution_count": 27,
   "outputs": [],
   "source": [
    "# df = pd.read_csv('/Users/db/PycharmProjects/blog_Jan18/cabinet-turnover-datasets/cabinet-turnover.csv',\n",
    "#                  usecols=['president','position', 'appointee', 'length'])"
   ],
   "metadata": {
    "collapsed": false,
    "pycharm": {
     "name": "#%%\n",
     "is_executing": false
    }
   }
  },
  {
   "cell_type": "code",
   "execution_count": 28,
   "outputs": [
    {
     "data": {
      "text/plain": "  president                                  position              appointee  \\\n0    Carter                              OMB Director             Bert Lance   \n1    Carter               Secretary of Transportation            Brock Adams   \n2    Carter  Secretary of Health, Education & Welfare    Joseph Califano Jr.   \n3    Carter  Secretary of Housing & Urban Development        Patricia Harris   \n4    Carter                 Secretary of the Treasury  W. Michael Blumenthal   \n\n     start      end length   days  \n0  1/21/77  9/23/77    245  247.0  \n1  1/23/77  7/20/79    908  912.0  \n2  1/25/77   8/3/79    920  926.0  \n3  1/23/77   8/3/79    922  926.0  \n4  1/23/77   8/4/79    923  927.0  ",
      "text/html": "<div>\n<style scoped>\n    .dataframe tbody tr th:only-of-type {\n        vertical-align: middle;\n    }\n\n    .dataframe tbody tr th {\n        vertical-align: top;\n    }\n\n    .dataframe thead th {\n        text-align: right;\n    }\n</style>\n<table border=\"1\" class=\"dataframe\">\n  <thead>\n    <tr style=\"text-align: right;\">\n      <th></th>\n      <th>president</th>\n      <th>position</th>\n      <th>appointee</th>\n      <th>start</th>\n      <th>end</th>\n      <th>length</th>\n      <th>days</th>\n    </tr>\n  </thead>\n  <tbody>\n    <tr>\n      <th>0</th>\n      <td>Carter</td>\n      <td>OMB Director</td>\n      <td>Bert Lance</td>\n      <td>1/21/77</td>\n      <td>9/23/77</td>\n      <td>245</td>\n      <td>247.0</td>\n    </tr>\n    <tr>\n      <th>1</th>\n      <td>Carter</td>\n      <td>Secretary of Transportation</td>\n      <td>Brock Adams</td>\n      <td>1/23/77</td>\n      <td>7/20/79</td>\n      <td>908</td>\n      <td>912.0</td>\n    </tr>\n    <tr>\n      <th>2</th>\n      <td>Carter</td>\n      <td>Secretary of Health, Education &amp; Welfare</td>\n      <td>Joseph Califano Jr.</td>\n      <td>1/25/77</td>\n      <td>8/3/79</td>\n      <td>920</td>\n      <td>926.0</td>\n    </tr>\n    <tr>\n      <th>3</th>\n      <td>Carter</td>\n      <td>Secretary of Housing &amp; Urban Development</td>\n      <td>Patricia Harris</td>\n      <td>1/23/77</td>\n      <td>8/3/79</td>\n      <td>922</td>\n      <td>926.0</td>\n    </tr>\n    <tr>\n      <th>4</th>\n      <td>Carter</td>\n      <td>Secretary of the Treasury</td>\n      <td>W. Michael Blumenthal</td>\n      <td>1/23/77</td>\n      <td>8/4/79</td>\n      <td>923</td>\n      <td>927.0</td>\n    </tr>\n  </tbody>\n</table>\n</div>"
     },
     "metadata": {},
     "output_type": "execute_result",
     "execution_count": 28
    }
   ],
   "source": [
    "# We can see that the dataset begins with President Carter on 1/21/77 with the appointment of OMB Director Bert Lance\n",
    "df.head()"
   ],
   "metadata": {
    "collapsed": false,
    "pycharm": {
     "name": "#%%\n",
     "is_executing": false
    }
   }
  },
  {
   "cell_type": "code",
   "execution_count": 29,
   "outputs": [
    {
     "data": {
      "text/plain": "    president                              position         appointee  \\\n307     Trump        Secretary of Homeland Security  Kirstjen Nielsen   \n308     Trump  Secretary of Health & Human Services         Alex Azar   \n309     Trump                    Secretary of State       Mike Pompeo   \n310     Trump                          CIA Director       Gina Haspel   \n311     Trump         Secretary of Veterans Affairs     Robert Wilkie   \n\n       start              end length  days  \n307  12/6/17  Still in office    NaN   NaN  \n308  1/29/18  Still in office    NaN   NaN  \n309  4/26/18  Still in office    NaN   NaN  \n310  5/21/18  Still in office    NaN   NaN  \n311  7/30/18  Still in office    NaN   NaN  ",
      "text/html": "<div>\n<style scoped>\n    .dataframe tbody tr th:only-of-type {\n        vertical-align: middle;\n    }\n\n    .dataframe tbody tr th {\n        vertical-align: top;\n    }\n\n    .dataframe thead th {\n        text-align: right;\n    }\n</style>\n<table border=\"1\" class=\"dataframe\">\n  <thead>\n    <tr style=\"text-align: right;\">\n      <th></th>\n      <th>president</th>\n      <th>position</th>\n      <th>appointee</th>\n      <th>start</th>\n      <th>end</th>\n      <th>length</th>\n      <th>days</th>\n    </tr>\n  </thead>\n  <tbody>\n    <tr>\n      <th>307</th>\n      <td>Trump</td>\n      <td>Secretary of Homeland Security</td>\n      <td>Kirstjen Nielsen</td>\n      <td>12/6/17</td>\n      <td>Still in office</td>\n      <td>NaN</td>\n      <td>NaN</td>\n    </tr>\n    <tr>\n      <th>308</th>\n      <td>Trump</td>\n      <td>Secretary of Health &amp; Human Services</td>\n      <td>Alex Azar</td>\n      <td>1/29/18</td>\n      <td>Still in office</td>\n      <td>NaN</td>\n      <td>NaN</td>\n    </tr>\n    <tr>\n      <th>309</th>\n      <td>Trump</td>\n      <td>Secretary of State</td>\n      <td>Mike Pompeo</td>\n      <td>4/26/18</td>\n      <td>Still in office</td>\n      <td>NaN</td>\n      <td>NaN</td>\n    </tr>\n    <tr>\n      <th>310</th>\n      <td>Trump</td>\n      <td>CIA Director</td>\n      <td>Gina Haspel</td>\n      <td>5/21/18</td>\n      <td>Still in office</td>\n      <td>NaN</td>\n      <td>NaN</td>\n    </tr>\n    <tr>\n      <th>311</th>\n      <td>Trump</td>\n      <td>Secretary of Veterans Affairs</td>\n      <td>Robert Wilkie</td>\n      <td>7/30/18</td>\n      <td>Still in office</td>\n      <td>NaN</td>\n      <td>NaN</td>\n    </tr>\n  </tbody>\n</table>\n</div>"
     },
     "metadata": {},
     "output_type": "execute_result",
     "execution_count": 29
    }
   ],
   "source": [
    "# We can see that the dataset ends with President Trump on 7/30/18 with the appointment of Secretary of Veterans Affairs\n",
    "# on 7/30/18\n",
    "df.tail()"
   ],
   "metadata": {
    "collapsed": false,
    "pycharm": {
     "name": "#%%\n",
     "is_executing": false
    }
   }
  },
  {
   "cell_type": "code",
   "execution_count": 30,
   "outputs": [
    {
     "data": {
      "text/plain": "(312, 7)"
     },
     "metadata": {},
     "output_type": "execute_result",
     "execution_count": 30
    }
   ],
   "source": [
    "# 312 rows and 7 columns (not including the index)\n",
    "df.shape"
   ],
   "metadata": {
    "collapsed": false,
    "pycharm": {
     "name": "#%%\n",
     "is_executing": false
    }
   }
  },
  {
   "cell_type": "code",
   "execution_count": 31,
   "outputs": [
    {
     "name": "stdout",
     "text": [
      "<class 'pandas.core.frame.DataFrame'>\n",
      "RangeIndex: 312 entries, 0 to 311\n",
      "Data columns (total 7 columns):\n",
      "president    312 non-null object\n",
      "position     312 non-null object\n",
      "appointee    312 non-null object\n",
      "start        312 non-null object\n",
      "end          312 non-null object\n",
      "length       294 non-null object\n",
      "days         288 non-null float64\n",
      "dtypes: float64(1), object(6)\n",
      "memory usage: 17.2+ KB\n"
     ],
     "output_type": "stream"
    }
   ],
   "source": [
    "df.info()"
   ],
   "metadata": {
    "collapsed": false,
    "pycharm": {
     "name": "#%%\n",
     "is_executing": false
    }
   }
  },
  {
   "cell_type": "code",
   "execution_count": 32,
   "outputs": [
    {
     "name": "stdout",
     "text": [
      "<class 'pandas.core.frame.DataFrame'>\n",
      "RangeIndex: 312 entries, 0 to 311\n",
      "Data columns (total 7 columns):\n",
      "president    312 non-null object\n",
      "position     312 non-null object\n",
      "appointee    312 non-null object\n",
      "start        312 non-null object\n",
      "end          312 non-null object\n",
      "length       294 non-null object\n",
      "days         288 non-null float64\n",
      "dtypes: float64(1), object(6)\n",
      "memory usage: 17.2+ KB\n"
     ],
     "output_type": "stream"
    }
   ],
   "source": [
    "#Length has 16 null values, probably due to them still holding office\n",
    "df.info()"
   ],
   "metadata": {
    "collapsed": false,
    "pycharm": {
     "name": "#%%\n",
     "is_executing": false
    }
   }
  },
  {
   "cell_type": "code",
   "execution_count": 33,
   "outputs": [],
   "source": [
    "df.dropna(inplace=True)"
   ],
   "metadata": {
    "collapsed": false,
    "pycharm": {
     "name": "#%%\n",
     "is_executing": false
    }
   }
  },
  {
   "cell_type": "code",
   "execution_count": 34,
   "outputs": [
    {
     "data": {
      "text/plain": "(288, 7)"
     },
     "metadata": {},
     "output_type": "execute_result",
     "execution_count": 34
    }
   ],
   "source": [
    "df.shape"
   ],
   "metadata": {
    "collapsed": false,
    "pycharm": {
     "name": "#%%\n",
     "is_executing": false
    }
   }
  },
  {
   "cell_type": "code",
   "execution_count": 35,
   "outputs": [
    {
     "name": "stdout",
     "text": [
      "<class 'pandas.core.frame.DataFrame'>\n",
      "Int64Index: 288 entries, 0 to 293\n",
      "Data columns (total 7 columns):\n",
      "president    288 non-null object\n",
      "position     288 non-null object\n",
      "appointee    288 non-null object\n",
      "start        288 non-null object\n",
      "end          288 non-null object\n",
      "length       288 non-null object\n",
      "days         288 non-null float64\n",
      "dtypes: float64(1), object(6)\n",
      "memory usage: 18.0+ KB\n"
     ],
     "output_type": "stream"
    }
   ],
   "source": [
    "df.info()"
   ],
   "metadata": {
    "collapsed": false,
    "pycharm": {
     "name": "#%%\n",
     "is_executing": false
    }
   }
  },
  {
   "cell_type": "code",
   "execution_count": 36,
   "outputs": [],
   "source": [
    "# Correcting the data types will allow us to save memory usage and perform the \n",
    "# functions we need to perform. But, the length column was not converting.  Use \n",
    "# series.unique() to check for the saboteur!\n",
    "#df['length'].unique() # some entries have ' combined' "
   ],
   "metadata": {
    "collapsed": false,
    "pycharm": {
     "name": "#%%\n",
     "is_executing": false
    }
   }
  },
  {
   "cell_type": "code",
   "execution_count": 37,
   "outputs": [],
   "source": [
    "# remove ' combined', the string that is preventing us from converting the column to an int dtype\n",
    "df['length']=df['length'].str.strip(' combined')\n",
    "\n",
    "\n",
    "#sanity check\n",
    "#df.length.unique()"
   ],
   "metadata": {
    "collapsed": false,
    "pycharm": {
     "name": "#%%\n",
     "is_executing": false
    }
   }
  },
  {
   "cell_type": "code",
   "execution_count": 38,
   "outputs": [
    {
     "data": {
      "text/plain": "president     object\nposition      object\nappointee     object\nstart         object\nend           object\nlength        object\ndays         float64\ndtype: object"
     },
     "metadata": {},
     "output_type": "execute_result",
     "execution_count": 38
    }
   ],
   "source": [
    "df.dtypes"
   ],
   "metadata": {
    "collapsed": false,
    "pycharm": {
     "name": "#%%\n",
     "is_executing": false
    }
   }
  },
  {
   "cell_type": "code",
   "execution_count": 39,
   "outputs": [
    {
     "data": {
      "text/plain": "president          category\nposition           category\nappointee          category\nstart        datetime64[ns]\nend          datetime64[ns]\nlength                int16\ndays                float64\ndtype: object"
     },
     "metadata": {},
     "output_type": "execute_result",
     "execution_count": 39
    }
   ],
   "source": [
    "df['president']=df['president'].astype('category')\n",
    "df['position']=df['position'].astype('category')\n",
    "df['appointee']=df['appointee'].astype('category')\n",
    "# df['start'].unique()\n",
    "df = df[~df['start'].isin(['Reagan admin','Clinton admin', 'Bush admin'])]\n",
    "df['start']=df['start'].astype('datetime64[ns]')\n",
    "df['end']=df['end'].astype('datetime64[ns]')\n",
    "df['length']=pd.to_numeric(df.length, downcast='integer')\n",
    "df.dtypes\n"
   ],
   "metadata": {
    "collapsed": false,
    "pycharm": {
     "name": "#%%\n",
     "is_executing": false
    }
   }
  },
  {
   "cell_type": "code",
   "execution_count": 177,
   "outputs": [
    {
     "data": {
      "text/plain": "  president                                  position              appointee  \\\n0    Carter                              OMB Director             Bert Lance   \n1    Carter               Secretary of Transportation            Brock Adams   \n2    Carter  Secretary of Health, Education & Welfare    Joseph Califano Jr.   \n3    Carter  Secretary of Housing & Urban Development        Patricia Harris   \n4    Carter                 Secretary of the Treasury  W. Michael Blumenthal   \n\n       start        end  length   days  \n0 1977-01-21 1977-09-23     245  247.0  \n1 1977-01-23 1979-07-20     908  912.0  \n2 1977-01-25 1979-08-03     920  926.0  \n3 1977-01-23 1979-08-03     922  926.0  \n4 1977-01-23 1979-08-04     923  927.0  ",
      "text/html": "<div>\n<style scoped>\n    .dataframe tbody tr th:only-of-type {\n        vertical-align: middle;\n    }\n\n    .dataframe tbody tr th {\n        vertical-align: top;\n    }\n\n    .dataframe thead th {\n        text-align: right;\n    }\n</style>\n<table border=\"1\" class=\"dataframe\">\n  <thead>\n    <tr style=\"text-align: right;\">\n      <th></th>\n      <th>president</th>\n      <th>position</th>\n      <th>appointee</th>\n      <th>start</th>\n      <th>end</th>\n      <th>length</th>\n      <th>days</th>\n    </tr>\n  </thead>\n  <tbody>\n    <tr>\n      <th>0</th>\n      <td>Carter</td>\n      <td>OMB Director</td>\n      <td>Bert Lance</td>\n      <td>1977-01-21</td>\n      <td>1977-09-23</td>\n      <td>245</td>\n      <td>247.0</td>\n    </tr>\n    <tr>\n      <th>1</th>\n      <td>Carter</td>\n      <td>Secretary of Transportation</td>\n      <td>Brock Adams</td>\n      <td>1977-01-23</td>\n      <td>1979-07-20</td>\n      <td>908</td>\n      <td>912.0</td>\n    </tr>\n    <tr>\n      <th>2</th>\n      <td>Carter</td>\n      <td>Secretary of Health, Education &amp; Welfare</td>\n      <td>Joseph Califano Jr.</td>\n      <td>1977-01-25</td>\n      <td>1979-08-03</td>\n      <td>920</td>\n      <td>926.0</td>\n    </tr>\n    <tr>\n      <th>3</th>\n      <td>Carter</td>\n      <td>Secretary of Housing &amp; Urban Development</td>\n      <td>Patricia Harris</td>\n      <td>1977-01-23</td>\n      <td>1979-08-03</td>\n      <td>922</td>\n      <td>926.0</td>\n    </tr>\n    <tr>\n      <th>4</th>\n      <td>Carter</td>\n      <td>Secretary of the Treasury</td>\n      <td>W. Michael Blumenthal</td>\n      <td>1977-01-23</td>\n      <td>1979-08-04</td>\n      <td>923</td>\n      <td>927.0</td>\n    </tr>\n  </tbody>\n</table>\n</div>"
     },
     "metadata": {},
     "output_type": "execute_result",
     "execution_count": 177
    }
   ],
   "source": [
    "df.head()"
   ],
   "metadata": {
    "collapsed": false,
    "pycharm": {
     "name": "#%%\n",
     "is_executing": false
    }
   }
  },
  {
   "cell_type": "code",
   "execution_count": 178,
   "outputs": [
    {
     "data": {
      "text/plain": "[Carter, Reagan, Bush 41, Clinton, Bush 43, Obama, Trump]\nCategories (7, object): [Carter, Reagan, Bush 41, Clinton, Bush 43, Obama, Trump]"
     },
     "metadata": {},
     "output_type": "execute_result",
     "execution_count": 178
    }
   ],
   "source": [
    "df['president'].unique() #[Carter, Reagan, Bush 41, Clinton, Bush 43, Obama, Trump]"
   ],
   "metadata": {
    "collapsed": false,
    "pycharm": {
     "name": "#%%\n",
     "is_executing": false
    }
   }
  },
  {
   "cell_type": "code",
   "execution_count": 179,
   "outputs": [
    {
     "data": {
      "text/plain": "                                                              length    days\npresident position                                                          \nBush 41   Attorney General                                     416.0  1457.0\n          CIA Director                                           NaN     NaN\n          Chief of Staff                                      1460.0  3834.0\n          Director of Central Intelligence                     441.0  1462.0\n          Director of Central Intelligence/CIA Director          NaN     NaN\n          Director of National Intelligence                      NaN     NaN\n          EPA Administrator                                   1444.0  1462.0\n          OMB Director                                        1456.0  1462.0\n          SBA Administrator                                   1371.0  2259.0\n          Secretary of Agriculture                            1423.0  2233.0\n          Secretary of Commerce                               1407.0  2553.0\n          Secretary of Defense                                1401.0  1462.0\n          Secretary of Education                               674.0  1462.0\n          Secretary of Energy                                 1421.0  1462.0\n          Secretary of Health & Human Services                1421.0  1462.0\n          Secretary of Health, Education & Welfare               NaN     NaN\n          Secretary of Health, Education & Welfare/Secret...     NaN     NaN\n          Secretary of Homeland Security                         NaN     NaN\n          Secretary of Housing & Urban Development            1436.0  1461.0\n          Secretary of Labor                                  1380.0  2135.0\n          Secretary of State                                  1348.0  2773.0\n          Secretary of Transportation                         1355.0  2520.0\n          Secretary of Veterans Affairs                       1291.0  1346.0\n          Secretary of the Interior                           1447.0  1462.0\n          Secretary of the Treasury                              NaN     NaN\n          U.S. Trade Representative                           1444.0  1462.0\n          UN Ambassador                                       1404.0  2673.0\n          Vice President                                      1461.0  1462.0\nBush 43   Attorney General                                    2856.0  6831.0\n          CIA Director                                         989.0  2946.0\n          Chief of Staff                                      2922.0  4834.0\n          Director of Central Intelligence                       NaN     NaN\n          Director of Central Intelligence/CIA Director        588.0  1932.0\n          Director of National Intelligence                   1377.0  5146.0\n          EPA Administrator                                   2682.0  5279.0\n          OMB Director                                        2824.0  8088.0\n          SBA Administrator                                   2499.0  4684.0\n          Secretary of Agriculture                            2791.0  6820.0\n          Secretary of Commerce                               2917.0  4398.0\n          Secretary of Defense                                2158.0  2159.0\n          Secretary of Education                              2914.0  4385.0\n          Secretary of Energy                                 2921.0  4396.0\n          Secretary of Health & Human Services                2909.0  4391.0\n          Secretary of Health, Education & Welfare               NaN     NaN\n          Secretary of Health, Education & Welfare/Secret...     NaN     NaN\n          Secretary of Homeland Security                      2175.0  4398.0\n          Secretary of Housing & Urban Development            2760.0  6626.0\n          Secretary of Labor                                  2913.0  2923.0\n          Secretary of State                                  2921.0  4390.0\n          Secretary of Transportation                         2815.0  4918.0\n          Secretary of Veterans Affairs                       2833.0  6837.0\n          Secretary of the Interior                           2851.0  4819.0\n          Secretary of the Treasury                           2867.0  5621.0\n          U.S. Trade Representative                           2807.0  6371.0\n          UN Ambassador                                       2338.0  7810.0\n          Vice President                                      2922.0  2923.0\nCarter    Attorney General                                    1454.0  2400.0\n          CIA Director                                           NaN     NaN\n          Chief of Staff                                       552.0  2701.0\n          Director of Central Intelligence                    1413.0  1462.0\n          Director of Central Intelligence/CIA Director          NaN     NaN\n          Director of National Intelligence                      NaN     NaN\n          EPA Administrator                                   1415.0  1462.0\n          OMB Director                                        1459.0  1709.0\n          SBA Administrator                                   1390.0  1462.0\n          Secretary of Agriculture                            1458.0  1462.0\n          Secretary of Commerce                               1387.0  2476.0\n          Secretary of Defense                                1460.0  1462.0\n          Secretary of Education                               411.0  1462.0\n          Secretary of Energy                                 1262.0  2408.0\n          Secretary of Health & Human Services                   NaN     NaN\n          Secretary of Health, Education & Welfare             920.0   926.0\n          Secretary of Health, Education & Welfare/Secret...   536.0  1462.0\n          Secretary of Homeland Security                         NaN     NaN\n          Secretary of Housing & Urban Development            1406.0  2388.0\n          Secretary of Labor                                  1454.0  1462.0\n          Secretary of State                                  1446.0  2655.0\n          Secretary of Transportation                         1432.0  2374.0\n          Secretary of Veterans Affairs                          NaN     NaN\n          Secretary of the Interior                           1458.0  1462.0\n          Secretary of the Treasury                           1456.0  2389.0\n          U.S. Trade Representative                           1327.0  2382.0\n          UN Ambassador                                       1451.0  2439.0\n          Vice President                                      1461.0  1462.0\nClinton   Attorney General                                    2871.0  2923.0\n          CIA Director                                           NaN     NaN\n          Chief of Staff                                      2922.0  7029.0\n          Director of Central Intelligence                    1289.0  2147.0\n          Director of Central Intelligence/CIA Director          NaN     NaN\n          Director of National Intelligence                      NaN     NaN\n          EPA Administrator                                   2919.0  2922.0\n          OMB Director                                        2688.0  6607.0\n          SBA Administrator                                   2784.0  5032.0\n          Secretary of Agriculture                            2830.0  3633.0\n          Secretary of Commerce                               2899.0  8293.0\n          Secretary of Defense                                2920.0  4768.0\n          Secretary of Education                              2921.0  2923.0\n          Secretary of Energy                                 2820.0  6373.0\n          Secretary of Health & Human Services                2920.0  2923.0\n          Secretary of Health, Education & Welfare               NaN     NaN\n          Secretary of Health, Education & Welfare/Secret...     NaN     NaN\n          Secretary of Homeland Security                         NaN     NaN\n          Secretary of Housing & Urban Development            2910.0  4384.0\n          Secretary of Labor                                  2809.0  4375.0\n          Secretary of State                                  2915.0  4381.0\n          Secretary of Transportation                         2921.0  4410.0\n          Secretary of Veterans Affairs                       2434.0  4370.0\n          Secretary of the Interior                           2902.0  2905.0\n          Secretary of the Treasury                           2901.0  5980.0\n          U.S. Trade Representative                           2580.0  4102.0\n          UN Ambassador                                       2501.0  6422.0\n          Vice President                                      2922.0  2923.0\nObama     Attorney General                                    2905.0  5209.0\n          CIA Director                                        2711.0  5205.0\n          Chief of Staff                                      2815.0  6113.0\n          Director of Central Intelligence                       NaN     NaN\n          Director of Central Intelligence/CIA Director          NaN     NaN\n          Director of National Intelligence                   2840.0  3417.0\n          EPA Administrator                                   2761.0  4410.0\n          OMB Director                                        2305.0  6548.0\n          SBA Administrator                                   2628.0  4609.0\n          Secretary of Agriculture                            2915.0  2916.0\n          Secretary of Commerce                               2406.0  5096.0\n          Secretary of Defense                                2028.0  6641.0\n          Secretary of Education                              2848.0  5460.0\n          Secretary of Energy                                 2892.0  4477.0\n          Secretary of Health & Human Services                2821.0  4887.0\n          Secretary of Health, Education & Welfare               NaN     NaN\n          Secretary of Health, Education & Welfare/Secret...     NaN     NaN\n          Secretary of Homeland Security                      2813.0  4614.0\n          Secretary of Housing & Urban Development            2916.0  4939.0\n          Secretary of Labor                                  2705.0  4387.0\n          Secretary of State                                  2921.0  4397.0\n          Secretary of Transportation                         2919.0  4548.0\n          Secretary of Veterans Affairs                       2860.0  4880.0\n          Secretary of the Interior                           2922.0  4467.0\n          Secretary of the Treasury                           2882.0  4390.0\n          U.S. Trade Representative                           2765.0  4439.0\n          UN Ambassador                                       2881.0  4547.0\n          Vice President                                      2922.0  2923.0\nReagan    Attorney General                                    2758.0  4260.0\n          CIA Director                                           NaN     NaN\n          Chief of Staff                                      2918.0  9349.0\n          Director of Central Intelligence                    2192.0  2201.0\n          Director of Central Intelligence/CIA Director          NaN     NaN\n          Director of National Intelligence                      NaN     NaN\n          EPA Administrator                                   2697.0  5148.0\n          OMB Director                                        2829.0  7404.0\n          SBA Administrator                                   2532.0  5290.0\n          Secretary of Agriculture                            2898.0  4775.0\n          Secretary of Commerce                               2846.0  5311.0\n          Secretary of Defense                                2921.0  5422.0\n          Secretary of Education                              2760.0  4243.0\n          Secretary of Energy                                 2919.0  5058.0\n          Secretary of Health & Human Services                2886.0  5457.0\n          Secretary of Health, Education & Welfare               NaN     NaN\n          Secretary of Health, Education & Welfare/Secret...     NaN     NaN\n          Secretary of Homeland Security                         NaN     NaN\n          Secretary of Housing & Urban Development            2919.0  2923.0\n          Secretary of Labor                                  2818.0  6915.0\n          Secretary of State                                  2909.0  3455.0\n          Secretary of Transportation                         2849.0  6111.0\n          Secretary of Veterans Affairs                          NaN     NaN\n          Secretary of the Interior                           2908.0  5426.0\n          Secretary of the Treasury                           2763.0  4242.0\n          U.S. Trade Representative                           2856.0  4484.0\n          UN Ambassador                                       2910.0  4510.0\n          Vice President                                      2922.0  2923.0\nTrump     Attorney General                                     636.0   657.0\n          CIA Director                                         458.0   462.0\n          Chief of Staff                                       707.0   901.0\n          Director of Central Intelligence                       NaN     NaN\n          Director of Central Intelligence/CIA Director          NaN     NaN\n          Director of National Intelligence                      NaN     NaN\n          EPA Administrator                                    504.0   533.0\n          OMB Director                                           NaN     NaN\n          SBA Administrator                                      NaN     NaN\n          Secretary of Agriculture                               NaN     NaN\n          Secretary of Commerce                                  NaN     NaN\n          Secretary of Defense                                 710.0   711.0\n          Secretary of Education                                 NaN     NaN\n          Secretary of Energy                                    NaN     NaN\n          Secretary of Health & Human Services                 231.0   253.0\n          Secretary of Health, Education & Welfare               NaN     NaN\n          Secretary of Health, Education & Welfare/Secret...     NaN     NaN\n          Secretary of Homeland Security                       189.0   190.0\n          Secretary of Housing & Urban Development               NaN     NaN\n          Secretary of Labor                                     NaN     NaN\n          Secretary of State                                   423.0   436.0\n          Secretary of Transportation                            NaN     NaN\n          Secretary of Veterans Affairs                        407.0   433.0\n          Secretary of the Interior                            672.0   713.0\n          Secretary of the Treasury                              NaN     NaN\n          U.S. Trade Representative                              NaN     NaN\n          UN Ambassador                                        703.0   711.0\n          Vice President                                         NaN     NaN",
      "text/html": "<div>\n<style scoped>\n    .dataframe tbody tr th:only-of-type {\n        vertical-align: middle;\n    }\n\n    .dataframe tbody tr th {\n        vertical-align: top;\n    }\n\n    .dataframe thead th {\n        text-align: right;\n    }\n</style>\n<table border=\"1\" class=\"dataframe\">\n  <thead>\n    <tr style=\"text-align: right;\">\n      <th></th>\n      <th></th>\n      <th>length</th>\n      <th>days</th>\n    </tr>\n    <tr>\n      <th>president</th>\n      <th>position</th>\n      <th></th>\n      <th></th>\n    </tr>\n  </thead>\n  <tbody>\n    <tr>\n      <th rowspan=\"28\" valign=\"top\">Bush 41</th>\n      <th>Attorney General</th>\n      <td>416.0</td>\n      <td>1457.0</td>\n    </tr>\n    <tr>\n      <th>CIA Director</th>\n      <td>NaN</td>\n      <td>NaN</td>\n    </tr>\n    <tr>\n      <th>Chief of Staff</th>\n      <td>1460.0</td>\n      <td>3834.0</td>\n    </tr>\n    <tr>\n      <th>Director of Central Intelligence</th>\n      <td>441.0</td>\n      <td>1462.0</td>\n    </tr>\n    <tr>\n      <th>Director of Central Intelligence/CIA Director</th>\n      <td>NaN</td>\n      <td>NaN</td>\n    </tr>\n    <tr>\n      <th>Director of National Intelligence</th>\n      <td>NaN</td>\n      <td>NaN</td>\n    </tr>\n    <tr>\n      <th>EPA Administrator</th>\n      <td>1444.0</td>\n      <td>1462.0</td>\n    </tr>\n    <tr>\n      <th>OMB Director</th>\n      <td>1456.0</td>\n      <td>1462.0</td>\n    </tr>\n    <tr>\n      <th>SBA Administrator</th>\n      <td>1371.0</td>\n      <td>2259.0</td>\n    </tr>\n    <tr>\n      <th>Secretary of Agriculture</th>\n      <td>1423.0</td>\n      <td>2233.0</td>\n    </tr>\n    <tr>\n      <th>Secretary of Commerce</th>\n      <td>1407.0</td>\n      <td>2553.0</td>\n    </tr>\n    <tr>\n      <th>Secretary of Defense</th>\n      <td>1401.0</td>\n      <td>1462.0</td>\n    </tr>\n    <tr>\n      <th>Secretary of Education</th>\n      <td>674.0</td>\n      <td>1462.0</td>\n    </tr>\n    <tr>\n      <th>Secretary of Energy</th>\n      <td>1421.0</td>\n      <td>1462.0</td>\n    </tr>\n    <tr>\n      <th>Secretary of Health &amp; Human Services</th>\n      <td>1421.0</td>\n      <td>1462.0</td>\n    </tr>\n    <tr>\n      <th>Secretary of Health, Education &amp; Welfare</th>\n      <td>NaN</td>\n      <td>NaN</td>\n    </tr>\n    <tr>\n      <th>Secretary of Health, Education &amp; Welfare/Secretary of Health &amp; Human Services</th>\n      <td>NaN</td>\n      <td>NaN</td>\n    </tr>\n    <tr>\n      <th>Secretary of Homeland Security</th>\n      <td>NaN</td>\n      <td>NaN</td>\n    </tr>\n    <tr>\n      <th>Secretary of Housing &amp; Urban Development</th>\n      <td>1436.0</td>\n      <td>1461.0</td>\n    </tr>\n    <tr>\n      <th>Secretary of Labor</th>\n      <td>1380.0</td>\n      <td>2135.0</td>\n    </tr>\n    <tr>\n      <th>Secretary of State</th>\n      <td>1348.0</td>\n      <td>2773.0</td>\n    </tr>\n    <tr>\n      <th>Secretary of Transportation</th>\n      <td>1355.0</td>\n      <td>2520.0</td>\n    </tr>\n    <tr>\n      <th>Secretary of Veterans Affairs</th>\n      <td>1291.0</td>\n      <td>1346.0</td>\n    </tr>\n    <tr>\n      <th>Secretary of the Interior</th>\n      <td>1447.0</td>\n      <td>1462.0</td>\n    </tr>\n    <tr>\n      <th>Secretary of the Treasury</th>\n      <td>NaN</td>\n      <td>NaN</td>\n    </tr>\n    <tr>\n      <th>U.S. Trade Representative</th>\n      <td>1444.0</td>\n      <td>1462.0</td>\n    </tr>\n    <tr>\n      <th>UN Ambassador</th>\n      <td>1404.0</td>\n      <td>2673.0</td>\n    </tr>\n    <tr>\n      <th>Vice President</th>\n      <td>1461.0</td>\n      <td>1462.0</td>\n    </tr>\n    <tr>\n      <th rowspan=\"28\" valign=\"top\">Bush 43</th>\n      <th>Attorney General</th>\n      <td>2856.0</td>\n      <td>6831.0</td>\n    </tr>\n    <tr>\n      <th>CIA Director</th>\n      <td>989.0</td>\n      <td>2946.0</td>\n    </tr>\n    <tr>\n      <th>Chief of Staff</th>\n      <td>2922.0</td>\n      <td>4834.0</td>\n    </tr>\n    <tr>\n      <th>Director of Central Intelligence</th>\n      <td>NaN</td>\n      <td>NaN</td>\n    </tr>\n    <tr>\n      <th>Director of Central Intelligence/CIA Director</th>\n      <td>588.0</td>\n      <td>1932.0</td>\n    </tr>\n    <tr>\n      <th>Director of National Intelligence</th>\n      <td>1377.0</td>\n      <td>5146.0</td>\n    </tr>\n    <tr>\n      <th>EPA Administrator</th>\n      <td>2682.0</td>\n      <td>5279.0</td>\n    </tr>\n    <tr>\n      <th>OMB Director</th>\n      <td>2824.0</td>\n      <td>8088.0</td>\n    </tr>\n    <tr>\n      <th>SBA Administrator</th>\n      <td>2499.0</td>\n      <td>4684.0</td>\n    </tr>\n    <tr>\n      <th>Secretary of Agriculture</th>\n      <td>2791.0</td>\n      <td>6820.0</td>\n    </tr>\n    <tr>\n      <th>Secretary of Commerce</th>\n      <td>2917.0</td>\n      <td>4398.0</td>\n    </tr>\n    <tr>\n      <th>Secretary of Defense</th>\n      <td>2158.0</td>\n      <td>2159.0</td>\n    </tr>\n    <tr>\n      <th>Secretary of Education</th>\n      <td>2914.0</td>\n      <td>4385.0</td>\n    </tr>\n    <tr>\n      <th>Secretary of Energy</th>\n      <td>2921.0</td>\n      <td>4396.0</td>\n    </tr>\n    <tr>\n      <th>Secretary of Health &amp; Human Services</th>\n      <td>2909.0</td>\n      <td>4391.0</td>\n    </tr>\n    <tr>\n      <th>Secretary of Health, Education &amp; Welfare</th>\n      <td>NaN</td>\n      <td>NaN</td>\n    </tr>\n    <tr>\n      <th>Secretary of Health, Education &amp; Welfare/Secretary of Health &amp; Human Services</th>\n      <td>NaN</td>\n      <td>NaN</td>\n    </tr>\n    <tr>\n      <th>Secretary of Homeland Security</th>\n      <td>2175.0</td>\n      <td>4398.0</td>\n    </tr>\n    <tr>\n      <th>Secretary of Housing &amp; Urban Development</th>\n      <td>2760.0</td>\n      <td>6626.0</td>\n    </tr>\n    <tr>\n      <th>Secretary of Labor</th>\n      <td>2913.0</td>\n      <td>2923.0</td>\n    </tr>\n    <tr>\n      <th>Secretary of State</th>\n      <td>2921.0</td>\n      <td>4390.0</td>\n    </tr>\n    <tr>\n      <th>Secretary of Transportation</th>\n      <td>2815.0</td>\n      <td>4918.0</td>\n    </tr>\n    <tr>\n      <th>Secretary of Veterans Affairs</th>\n      <td>2833.0</td>\n      <td>6837.0</td>\n    </tr>\n    <tr>\n      <th>Secretary of the Interior</th>\n      <td>2851.0</td>\n      <td>4819.0</td>\n    </tr>\n    <tr>\n      <th>Secretary of the Treasury</th>\n      <td>2867.0</td>\n      <td>5621.0</td>\n    </tr>\n    <tr>\n      <th>U.S. Trade Representative</th>\n      <td>2807.0</td>\n      <td>6371.0</td>\n    </tr>\n    <tr>\n      <th>UN Ambassador</th>\n      <td>2338.0</td>\n      <td>7810.0</td>\n    </tr>\n    <tr>\n      <th>Vice President</th>\n      <td>2922.0</td>\n      <td>2923.0</td>\n    </tr>\n    <tr>\n      <th rowspan=\"28\" valign=\"top\">Carter</th>\n      <th>Attorney General</th>\n      <td>1454.0</td>\n      <td>2400.0</td>\n    </tr>\n    <tr>\n      <th>CIA Director</th>\n      <td>NaN</td>\n      <td>NaN</td>\n    </tr>\n    <tr>\n      <th>Chief of Staff</th>\n      <td>552.0</td>\n      <td>2701.0</td>\n    </tr>\n    <tr>\n      <th>Director of Central Intelligence</th>\n      <td>1413.0</td>\n      <td>1462.0</td>\n    </tr>\n    <tr>\n      <th>Director of Central Intelligence/CIA Director</th>\n      <td>NaN</td>\n      <td>NaN</td>\n    </tr>\n    <tr>\n      <th>Director of National Intelligence</th>\n      <td>NaN</td>\n      <td>NaN</td>\n    </tr>\n    <tr>\n      <th>EPA Administrator</th>\n      <td>1415.0</td>\n      <td>1462.0</td>\n    </tr>\n    <tr>\n      <th>OMB Director</th>\n      <td>1459.0</td>\n      <td>1709.0</td>\n    </tr>\n    <tr>\n      <th>SBA Administrator</th>\n      <td>1390.0</td>\n      <td>1462.0</td>\n    </tr>\n    <tr>\n      <th>Secretary of Agriculture</th>\n      <td>1458.0</td>\n      <td>1462.0</td>\n    </tr>\n    <tr>\n      <th>Secretary of Commerce</th>\n      <td>1387.0</td>\n      <td>2476.0</td>\n    </tr>\n    <tr>\n      <th>Secretary of Defense</th>\n      <td>1460.0</td>\n      <td>1462.0</td>\n    </tr>\n    <tr>\n      <th>Secretary of Education</th>\n      <td>411.0</td>\n      <td>1462.0</td>\n    </tr>\n    <tr>\n      <th>Secretary of Energy</th>\n      <td>1262.0</td>\n      <td>2408.0</td>\n    </tr>\n    <tr>\n      <th>Secretary of Health &amp; Human Services</th>\n      <td>NaN</td>\n      <td>NaN</td>\n    </tr>\n    <tr>\n      <th>Secretary of Health, Education &amp; Welfare</th>\n      <td>920.0</td>\n      <td>926.0</td>\n    </tr>\n    <tr>\n      <th>Secretary of Health, Education &amp; Welfare/Secretary of Health &amp; Human Services</th>\n      <td>536.0</td>\n      <td>1462.0</td>\n    </tr>\n    <tr>\n      <th>Secretary of Homeland Security</th>\n      <td>NaN</td>\n      <td>NaN</td>\n    </tr>\n    <tr>\n      <th>Secretary of Housing &amp; Urban Development</th>\n      <td>1406.0</td>\n      <td>2388.0</td>\n    </tr>\n    <tr>\n      <th>Secretary of Labor</th>\n      <td>1454.0</td>\n      <td>1462.0</td>\n    </tr>\n    <tr>\n      <th>Secretary of State</th>\n      <td>1446.0</td>\n      <td>2655.0</td>\n    </tr>\n    <tr>\n      <th>Secretary of Transportation</th>\n      <td>1432.0</td>\n      <td>2374.0</td>\n    </tr>\n    <tr>\n      <th>Secretary of Veterans Affairs</th>\n      <td>NaN</td>\n      <td>NaN</td>\n    </tr>\n    <tr>\n      <th>Secretary of the Interior</th>\n      <td>1458.0</td>\n      <td>1462.0</td>\n    </tr>\n    <tr>\n      <th>Secretary of the Treasury</th>\n      <td>1456.0</td>\n      <td>2389.0</td>\n    </tr>\n    <tr>\n      <th>U.S. Trade Representative</th>\n      <td>1327.0</td>\n      <td>2382.0</td>\n    </tr>\n    <tr>\n      <th>UN Ambassador</th>\n      <td>1451.0</td>\n      <td>2439.0</td>\n    </tr>\n    <tr>\n      <th>Vice President</th>\n      <td>1461.0</td>\n      <td>1462.0</td>\n    </tr>\n    <tr>\n      <th rowspan=\"28\" valign=\"top\">Clinton</th>\n      <th>Attorney General</th>\n      <td>2871.0</td>\n      <td>2923.0</td>\n    </tr>\n    <tr>\n      <th>CIA Director</th>\n      <td>NaN</td>\n      <td>NaN</td>\n    </tr>\n    <tr>\n      <th>Chief of Staff</th>\n      <td>2922.0</td>\n      <td>7029.0</td>\n    </tr>\n    <tr>\n      <th>Director of Central Intelligence</th>\n      <td>1289.0</td>\n      <td>2147.0</td>\n    </tr>\n    <tr>\n      <th>Director of Central Intelligence/CIA Director</th>\n      <td>NaN</td>\n      <td>NaN</td>\n    </tr>\n    <tr>\n      <th>Director of National Intelligence</th>\n      <td>NaN</td>\n      <td>NaN</td>\n    </tr>\n    <tr>\n      <th>EPA Administrator</th>\n      <td>2919.0</td>\n      <td>2922.0</td>\n    </tr>\n    <tr>\n      <th>OMB Director</th>\n      <td>2688.0</td>\n      <td>6607.0</td>\n    </tr>\n    <tr>\n      <th>SBA Administrator</th>\n      <td>2784.0</td>\n      <td>5032.0</td>\n    </tr>\n    <tr>\n      <th>Secretary of Agriculture</th>\n      <td>2830.0</td>\n      <td>3633.0</td>\n    </tr>\n    <tr>\n      <th>Secretary of Commerce</th>\n      <td>2899.0</td>\n      <td>8293.0</td>\n    </tr>\n    <tr>\n      <th>Secretary of Defense</th>\n      <td>2920.0</td>\n      <td>4768.0</td>\n    </tr>\n    <tr>\n      <th>Secretary of Education</th>\n      <td>2921.0</td>\n      <td>2923.0</td>\n    </tr>\n    <tr>\n      <th>Secretary of Energy</th>\n      <td>2820.0</td>\n      <td>6373.0</td>\n    </tr>\n    <tr>\n      <th>Secretary of Health &amp; Human Services</th>\n      <td>2920.0</td>\n      <td>2923.0</td>\n    </tr>\n    <tr>\n      <th>Secretary of Health, Education &amp; Welfare</th>\n      <td>NaN</td>\n      <td>NaN</td>\n    </tr>\n    <tr>\n      <th>Secretary of Health, Education &amp; Welfare/Secretary of Health &amp; Human Services</th>\n      <td>NaN</td>\n      <td>NaN</td>\n    </tr>\n    <tr>\n      <th>Secretary of Homeland Security</th>\n      <td>NaN</td>\n      <td>NaN</td>\n    </tr>\n    <tr>\n      <th>Secretary of Housing &amp; Urban Development</th>\n      <td>2910.0</td>\n      <td>4384.0</td>\n    </tr>\n    <tr>\n      <th>Secretary of Labor</th>\n      <td>2809.0</td>\n      <td>4375.0</td>\n    </tr>\n    <tr>\n      <th>Secretary of State</th>\n      <td>2915.0</td>\n      <td>4381.0</td>\n    </tr>\n    <tr>\n      <th>Secretary of Transportation</th>\n      <td>2921.0</td>\n      <td>4410.0</td>\n    </tr>\n    <tr>\n      <th>Secretary of Veterans Affairs</th>\n      <td>2434.0</td>\n      <td>4370.0</td>\n    </tr>\n    <tr>\n      <th>Secretary of the Interior</th>\n      <td>2902.0</td>\n      <td>2905.0</td>\n    </tr>\n    <tr>\n      <th>Secretary of the Treasury</th>\n      <td>2901.0</td>\n      <td>5980.0</td>\n    </tr>\n    <tr>\n      <th>U.S. Trade Representative</th>\n      <td>2580.0</td>\n      <td>4102.0</td>\n    </tr>\n    <tr>\n      <th>UN Ambassador</th>\n      <td>2501.0</td>\n      <td>6422.0</td>\n    </tr>\n    <tr>\n      <th>Vice President</th>\n      <td>2922.0</td>\n      <td>2923.0</td>\n    </tr>\n    <tr>\n      <th rowspan=\"28\" valign=\"top\">Obama</th>\n      <th>Attorney General</th>\n      <td>2905.0</td>\n      <td>5209.0</td>\n    </tr>\n    <tr>\n      <th>CIA Director</th>\n      <td>2711.0</td>\n      <td>5205.0</td>\n    </tr>\n    <tr>\n      <th>Chief of Staff</th>\n      <td>2815.0</td>\n      <td>6113.0</td>\n    </tr>\n    <tr>\n      <th>Director of Central Intelligence</th>\n      <td>NaN</td>\n      <td>NaN</td>\n    </tr>\n    <tr>\n      <th>Director of Central Intelligence/CIA Director</th>\n      <td>NaN</td>\n      <td>NaN</td>\n    </tr>\n    <tr>\n      <th>Director of National Intelligence</th>\n      <td>2840.0</td>\n      <td>3417.0</td>\n    </tr>\n    <tr>\n      <th>EPA Administrator</th>\n      <td>2761.0</td>\n      <td>4410.0</td>\n    </tr>\n    <tr>\n      <th>OMB Director</th>\n      <td>2305.0</td>\n      <td>6548.0</td>\n    </tr>\n    <tr>\n      <th>SBA Administrator</th>\n      <td>2628.0</td>\n      <td>4609.0</td>\n    </tr>\n    <tr>\n      <th>Secretary of Agriculture</th>\n      <td>2915.0</td>\n      <td>2916.0</td>\n    </tr>\n    <tr>\n      <th>Secretary of Commerce</th>\n      <td>2406.0</td>\n      <td>5096.0</td>\n    </tr>\n    <tr>\n      <th>Secretary of Defense</th>\n      <td>2028.0</td>\n      <td>6641.0</td>\n    </tr>\n    <tr>\n      <th>Secretary of Education</th>\n      <td>2848.0</td>\n      <td>5460.0</td>\n    </tr>\n    <tr>\n      <th>Secretary of Energy</th>\n      <td>2892.0</td>\n      <td>4477.0</td>\n    </tr>\n    <tr>\n      <th>Secretary of Health &amp; Human Services</th>\n      <td>2821.0</td>\n      <td>4887.0</td>\n    </tr>\n    <tr>\n      <th>Secretary of Health, Education &amp; Welfare</th>\n      <td>NaN</td>\n      <td>NaN</td>\n    </tr>\n    <tr>\n      <th>Secretary of Health, Education &amp; Welfare/Secretary of Health &amp; Human Services</th>\n      <td>NaN</td>\n      <td>NaN</td>\n    </tr>\n    <tr>\n      <th>Secretary of Homeland Security</th>\n      <td>2813.0</td>\n      <td>4614.0</td>\n    </tr>\n    <tr>\n      <th>Secretary of Housing &amp; Urban Development</th>\n      <td>2916.0</td>\n      <td>4939.0</td>\n    </tr>\n    <tr>\n      <th>Secretary of Labor</th>\n      <td>2705.0</td>\n      <td>4387.0</td>\n    </tr>\n    <tr>\n      <th>Secretary of State</th>\n      <td>2921.0</td>\n      <td>4397.0</td>\n    </tr>\n    <tr>\n      <th>Secretary of Transportation</th>\n      <td>2919.0</td>\n      <td>4548.0</td>\n    </tr>\n    <tr>\n      <th>Secretary of Veterans Affairs</th>\n      <td>2860.0</td>\n      <td>4880.0</td>\n    </tr>\n    <tr>\n      <th>Secretary of the Interior</th>\n      <td>2922.0</td>\n      <td>4467.0</td>\n    </tr>\n    <tr>\n      <th>Secretary of the Treasury</th>\n      <td>2882.0</td>\n      <td>4390.0</td>\n    </tr>\n    <tr>\n      <th>U.S. Trade Representative</th>\n      <td>2765.0</td>\n      <td>4439.0</td>\n    </tr>\n    <tr>\n      <th>UN Ambassador</th>\n      <td>2881.0</td>\n      <td>4547.0</td>\n    </tr>\n    <tr>\n      <th>Vice President</th>\n      <td>2922.0</td>\n      <td>2923.0</td>\n    </tr>\n    <tr>\n      <th rowspan=\"28\" valign=\"top\">Reagan</th>\n      <th>Attorney General</th>\n      <td>2758.0</td>\n      <td>4260.0</td>\n    </tr>\n    <tr>\n      <th>CIA Director</th>\n      <td>NaN</td>\n      <td>NaN</td>\n    </tr>\n    <tr>\n      <th>Chief of Staff</th>\n      <td>2918.0</td>\n      <td>9349.0</td>\n    </tr>\n    <tr>\n      <th>Director of Central Intelligence</th>\n      <td>2192.0</td>\n      <td>2201.0</td>\n    </tr>\n    <tr>\n      <th>Director of Central Intelligence/CIA Director</th>\n      <td>NaN</td>\n      <td>NaN</td>\n    </tr>\n    <tr>\n      <th>Director of National Intelligence</th>\n      <td>NaN</td>\n      <td>NaN</td>\n    </tr>\n    <tr>\n      <th>EPA Administrator</th>\n      <td>2697.0</td>\n      <td>5148.0</td>\n    </tr>\n    <tr>\n      <th>OMB Director</th>\n      <td>2829.0</td>\n      <td>7404.0</td>\n    </tr>\n    <tr>\n      <th>SBA Administrator</th>\n      <td>2532.0</td>\n      <td>5290.0</td>\n    </tr>\n    <tr>\n      <th>Secretary of Agriculture</th>\n      <td>2898.0</td>\n      <td>4775.0</td>\n    </tr>\n    <tr>\n      <th>Secretary of Commerce</th>\n      <td>2846.0</td>\n      <td>5311.0</td>\n    </tr>\n    <tr>\n      <th>Secretary of Defense</th>\n      <td>2921.0</td>\n      <td>5422.0</td>\n    </tr>\n    <tr>\n      <th>Secretary of Education</th>\n      <td>2760.0</td>\n      <td>4243.0</td>\n    </tr>\n    <tr>\n      <th>Secretary of Energy</th>\n      <td>2919.0</td>\n      <td>5058.0</td>\n    </tr>\n    <tr>\n      <th>Secretary of Health &amp; Human Services</th>\n      <td>2886.0</td>\n      <td>5457.0</td>\n    </tr>\n    <tr>\n      <th>Secretary of Health, Education &amp; Welfare</th>\n      <td>NaN</td>\n      <td>NaN</td>\n    </tr>\n    <tr>\n      <th>Secretary of Health, Education &amp; Welfare/Secretary of Health &amp; Human Services</th>\n      <td>NaN</td>\n      <td>NaN</td>\n    </tr>\n    <tr>\n      <th>Secretary of Homeland Security</th>\n      <td>NaN</td>\n      <td>NaN</td>\n    </tr>\n    <tr>\n      <th>Secretary of Housing &amp; Urban Development</th>\n      <td>2919.0</td>\n      <td>2923.0</td>\n    </tr>\n    <tr>\n      <th>Secretary of Labor</th>\n      <td>2818.0</td>\n      <td>6915.0</td>\n    </tr>\n    <tr>\n      <th>Secretary of State</th>\n      <td>2909.0</td>\n      <td>3455.0</td>\n    </tr>\n    <tr>\n      <th>Secretary of Transportation</th>\n      <td>2849.0</td>\n      <td>6111.0</td>\n    </tr>\n    <tr>\n      <th>Secretary of Veterans Affairs</th>\n      <td>NaN</td>\n      <td>NaN</td>\n    </tr>\n    <tr>\n      <th>Secretary of the Interior</th>\n      <td>2908.0</td>\n      <td>5426.0</td>\n    </tr>\n    <tr>\n      <th>Secretary of the Treasury</th>\n      <td>2763.0</td>\n      <td>4242.0</td>\n    </tr>\n    <tr>\n      <th>U.S. Trade Representative</th>\n      <td>2856.0</td>\n      <td>4484.0</td>\n    </tr>\n    <tr>\n      <th>UN Ambassador</th>\n      <td>2910.0</td>\n      <td>4510.0</td>\n    </tr>\n    <tr>\n      <th>Vice President</th>\n      <td>2922.0</td>\n      <td>2923.0</td>\n    </tr>\n    <tr>\n      <th rowspan=\"28\" valign=\"top\">Trump</th>\n      <th>Attorney General</th>\n      <td>636.0</td>\n      <td>657.0</td>\n    </tr>\n    <tr>\n      <th>CIA Director</th>\n      <td>458.0</td>\n      <td>462.0</td>\n    </tr>\n    <tr>\n      <th>Chief of Staff</th>\n      <td>707.0</td>\n      <td>901.0</td>\n    </tr>\n    <tr>\n      <th>Director of Central Intelligence</th>\n      <td>NaN</td>\n      <td>NaN</td>\n    </tr>\n    <tr>\n      <th>Director of Central Intelligence/CIA Director</th>\n      <td>NaN</td>\n      <td>NaN</td>\n    </tr>\n    <tr>\n      <th>Director of National Intelligence</th>\n      <td>NaN</td>\n      <td>NaN</td>\n    </tr>\n    <tr>\n      <th>EPA Administrator</th>\n      <td>504.0</td>\n      <td>533.0</td>\n    </tr>\n    <tr>\n      <th>OMB Director</th>\n      <td>NaN</td>\n      <td>NaN</td>\n    </tr>\n    <tr>\n      <th>SBA Administrator</th>\n      <td>NaN</td>\n      <td>NaN</td>\n    </tr>\n    <tr>\n      <th>Secretary of Agriculture</th>\n      <td>NaN</td>\n      <td>NaN</td>\n    </tr>\n    <tr>\n      <th>Secretary of Commerce</th>\n      <td>NaN</td>\n      <td>NaN</td>\n    </tr>\n    <tr>\n      <th>Secretary of Defense</th>\n      <td>710.0</td>\n      <td>711.0</td>\n    </tr>\n    <tr>\n      <th>Secretary of Education</th>\n      <td>NaN</td>\n      <td>NaN</td>\n    </tr>\n    <tr>\n      <th>Secretary of Energy</th>\n      <td>NaN</td>\n      <td>NaN</td>\n    </tr>\n    <tr>\n      <th>Secretary of Health &amp; Human Services</th>\n      <td>231.0</td>\n      <td>253.0</td>\n    </tr>\n    <tr>\n      <th>Secretary of Health, Education &amp; Welfare</th>\n      <td>NaN</td>\n      <td>NaN</td>\n    </tr>\n    <tr>\n      <th>Secretary of Health, Education &amp; Welfare/Secretary of Health &amp; Human Services</th>\n      <td>NaN</td>\n      <td>NaN</td>\n    </tr>\n    <tr>\n      <th>Secretary of Homeland Security</th>\n      <td>189.0</td>\n      <td>190.0</td>\n    </tr>\n    <tr>\n      <th>Secretary of Housing &amp; Urban Development</th>\n      <td>NaN</td>\n      <td>NaN</td>\n    </tr>\n    <tr>\n      <th>Secretary of Labor</th>\n      <td>NaN</td>\n      <td>NaN</td>\n    </tr>\n    <tr>\n      <th>Secretary of State</th>\n      <td>423.0</td>\n      <td>436.0</td>\n    </tr>\n    <tr>\n      <th>Secretary of Transportation</th>\n      <td>NaN</td>\n      <td>NaN</td>\n    </tr>\n    <tr>\n      <th>Secretary of Veterans Affairs</th>\n      <td>407.0</td>\n      <td>433.0</td>\n    </tr>\n    <tr>\n      <th>Secretary of the Interior</th>\n      <td>672.0</td>\n      <td>713.0</td>\n    </tr>\n    <tr>\n      <th>Secretary of the Treasury</th>\n      <td>NaN</td>\n      <td>NaN</td>\n    </tr>\n    <tr>\n      <th>U.S. Trade Representative</th>\n      <td>NaN</td>\n      <td>NaN</td>\n    </tr>\n    <tr>\n      <th>UN Ambassador</th>\n      <td>703.0</td>\n      <td>711.0</td>\n    </tr>\n    <tr>\n      <th>Vice President</th>\n      <td>NaN</td>\n      <td>NaN</td>\n    </tr>\n  </tbody>\n</table>\n</div>"
     },
     "metadata": {},
     "output_type": "execute_result",
     "execution_count": 179
    }
   ],
   "source": [
    "#df.set_index('president',inplace=True)\n",
    "\n",
    "# Set max rows displayed in output to 250\n",
    "pd.set_option(\"display.max_rows\", 250)\n",
    "df.groupby([\"president\",\"position\"]).sum()\n"
   ],
   "metadata": {
    "collapsed": false,
    "pycharm": {
     "name": "#%%\n",
     "is_executing": false
    }
   }
  },
  {
   "cell_type": "code",
   "execution_count": 180,
   "outputs": [
    {
     "data": {
      "text/plain": "                                                    president  appointee  \\\nposition                                                                   \nAttorney General                                           12         12   \nCIA Director                                                5          5   \nChief of Staff                                             21         21   \nDirector of Central Intelligence                            5          5   \nDirector of Central Intelligence/CIA Director               1          1   \nDirector of National Intelligence                           4          4   \nEPA Administrator                                          12         12   \nOMB Director                                               18         18   \nSBA Administrator                                          13         13   \nSecretary of Agriculture                                   11         11   \nSecretary of Commerce                                      15         15   \nSecretary of Defense                                       12         12   \nSecretary of Education                                      9          9   \nSecretary of Energy                                        13         13   \nSecretary of Health & Human Services                       10         10   \nSecretary of Health, Education & Welfare                    1          1   \nSecretary of Health, Education & Welfare/Secret...          1          1   \nSecretary of Homeland Security                              5          5   \nSecretary of Housing & Urban Development                   11         11   \nSecretary of Labor                                         11         11   \nSecretary of State                                         13         13   \nSecretary of Transportation                                13         13   \nSecretary of Veterans Affairs                               9          9   \nSecretary of the Interior                                  11         11   \nSecretary of the Treasury                                  12         12   \nU.S. Trade Representative                                  12         12   \nUN Ambassador                                              16         16   \nVice President                                              6          6   \n\n                                                    start  end  length  days  \nposition                                                                      \nAttorney General                                       12   12      12    12  \nCIA Director                                            5    5       5     5  \nChief of Staff                                         21   21      21    21  \nDirector of Central Intelligence                        5    5       5     5  \nDirector of Central Intelligence/CIA Director           1    1       1     1  \nDirector of National Intelligence                       4    4       4     4  \nEPA Administrator                                      12   12      12    12  \nOMB Director                                           18   18      18    18  \nSBA Administrator                                      13   13      13    13  \nSecretary of Agriculture                               11   11      11    11  \nSecretary of Commerce                                  15   15      15    15  \nSecretary of Defense                                   12   12      12    12  \nSecretary of Education                                  9    9       9     9  \nSecretary of Energy                                    13   13      13    13  \nSecretary of Health & Human Services                   10   10      10    10  \nSecretary of Health, Education & Welfare                1    1       1     1  \nSecretary of Health, Education & Welfare/Secret...      1    1       1     1  \nSecretary of Homeland Security                          5    5       5     5  \nSecretary of Housing & Urban Development               11   11      11    11  \nSecretary of Labor                                     11   11      11    11  \nSecretary of State                                     13   13      13    13  \nSecretary of Transportation                            13   13      13    13  \nSecretary of Veterans Affairs                           9    9       9     9  \nSecretary of the Interior                              11   11      11    11  \nSecretary of the Treasury                              12   12      12    12  \nU.S. Trade Representative                              12   12      12    12  \nUN Ambassador                                          16   16      16    16  \nVice President                                          6    6       6     6  ",
      "text/html": "<div>\n<style scoped>\n    .dataframe tbody tr th:only-of-type {\n        vertical-align: middle;\n    }\n\n    .dataframe tbody tr th {\n        vertical-align: top;\n    }\n\n    .dataframe thead th {\n        text-align: right;\n    }\n</style>\n<table border=\"1\" class=\"dataframe\">\n  <thead>\n    <tr style=\"text-align: right;\">\n      <th></th>\n      <th>president</th>\n      <th>appointee</th>\n      <th>start</th>\n      <th>end</th>\n      <th>length</th>\n      <th>days</th>\n    </tr>\n    <tr>\n      <th>position</th>\n      <th></th>\n      <th></th>\n      <th></th>\n      <th></th>\n      <th></th>\n      <th></th>\n    </tr>\n  </thead>\n  <tbody>\n    <tr>\n      <th>Attorney General</th>\n      <td>12</td>\n      <td>12</td>\n      <td>12</td>\n      <td>12</td>\n      <td>12</td>\n      <td>12</td>\n    </tr>\n    <tr>\n      <th>CIA Director</th>\n      <td>5</td>\n      <td>5</td>\n      <td>5</td>\n      <td>5</td>\n      <td>5</td>\n      <td>5</td>\n    </tr>\n    <tr>\n      <th>Chief of Staff</th>\n      <td>21</td>\n      <td>21</td>\n      <td>21</td>\n      <td>21</td>\n      <td>21</td>\n      <td>21</td>\n    </tr>\n    <tr>\n      <th>Director of Central Intelligence</th>\n      <td>5</td>\n      <td>5</td>\n      <td>5</td>\n      <td>5</td>\n      <td>5</td>\n      <td>5</td>\n    </tr>\n    <tr>\n      <th>Director of Central Intelligence/CIA Director</th>\n      <td>1</td>\n      <td>1</td>\n      <td>1</td>\n      <td>1</td>\n      <td>1</td>\n      <td>1</td>\n    </tr>\n    <tr>\n      <th>Director of National Intelligence</th>\n      <td>4</td>\n      <td>4</td>\n      <td>4</td>\n      <td>4</td>\n      <td>4</td>\n      <td>4</td>\n    </tr>\n    <tr>\n      <th>EPA Administrator</th>\n      <td>12</td>\n      <td>12</td>\n      <td>12</td>\n      <td>12</td>\n      <td>12</td>\n      <td>12</td>\n    </tr>\n    <tr>\n      <th>OMB Director</th>\n      <td>18</td>\n      <td>18</td>\n      <td>18</td>\n      <td>18</td>\n      <td>18</td>\n      <td>18</td>\n    </tr>\n    <tr>\n      <th>SBA Administrator</th>\n      <td>13</td>\n      <td>13</td>\n      <td>13</td>\n      <td>13</td>\n      <td>13</td>\n      <td>13</td>\n    </tr>\n    <tr>\n      <th>Secretary of Agriculture</th>\n      <td>11</td>\n      <td>11</td>\n      <td>11</td>\n      <td>11</td>\n      <td>11</td>\n      <td>11</td>\n    </tr>\n    <tr>\n      <th>Secretary of Commerce</th>\n      <td>15</td>\n      <td>15</td>\n      <td>15</td>\n      <td>15</td>\n      <td>15</td>\n      <td>15</td>\n    </tr>\n    <tr>\n      <th>Secretary of Defense</th>\n      <td>12</td>\n      <td>12</td>\n      <td>12</td>\n      <td>12</td>\n      <td>12</td>\n      <td>12</td>\n    </tr>\n    <tr>\n      <th>Secretary of Education</th>\n      <td>9</td>\n      <td>9</td>\n      <td>9</td>\n      <td>9</td>\n      <td>9</td>\n      <td>9</td>\n    </tr>\n    <tr>\n      <th>Secretary of Energy</th>\n      <td>13</td>\n      <td>13</td>\n      <td>13</td>\n      <td>13</td>\n      <td>13</td>\n      <td>13</td>\n    </tr>\n    <tr>\n      <th>Secretary of Health &amp; Human Services</th>\n      <td>10</td>\n      <td>10</td>\n      <td>10</td>\n      <td>10</td>\n      <td>10</td>\n      <td>10</td>\n    </tr>\n    <tr>\n      <th>Secretary of Health, Education &amp; Welfare</th>\n      <td>1</td>\n      <td>1</td>\n      <td>1</td>\n      <td>1</td>\n      <td>1</td>\n      <td>1</td>\n    </tr>\n    <tr>\n      <th>Secretary of Health, Education &amp; Welfare/Secretary of Health &amp; Human Services</th>\n      <td>1</td>\n      <td>1</td>\n      <td>1</td>\n      <td>1</td>\n      <td>1</td>\n      <td>1</td>\n    </tr>\n    <tr>\n      <th>Secretary of Homeland Security</th>\n      <td>5</td>\n      <td>5</td>\n      <td>5</td>\n      <td>5</td>\n      <td>5</td>\n      <td>5</td>\n    </tr>\n    <tr>\n      <th>Secretary of Housing &amp; Urban Development</th>\n      <td>11</td>\n      <td>11</td>\n      <td>11</td>\n      <td>11</td>\n      <td>11</td>\n      <td>11</td>\n    </tr>\n    <tr>\n      <th>Secretary of Labor</th>\n      <td>11</td>\n      <td>11</td>\n      <td>11</td>\n      <td>11</td>\n      <td>11</td>\n      <td>11</td>\n    </tr>\n    <tr>\n      <th>Secretary of State</th>\n      <td>13</td>\n      <td>13</td>\n      <td>13</td>\n      <td>13</td>\n      <td>13</td>\n      <td>13</td>\n    </tr>\n    <tr>\n      <th>Secretary of Transportation</th>\n      <td>13</td>\n      <td>13</td>\n      <td>13</td>\n      <td>13</td>\n      <td>13</td>\n      <td>13</td>\n    </tr>\n    <tr>\n      <th>Secretary of Veterans Affairs</th>\n      <td>9</td>\n      <td>9</td>\n      <td>9</td>\n      <td>9</td>\n      <td>9</td>\n      <td>9</td>\n    </tr>\n    <tr>\n      <th>Secretary of the Interior</th>\n      <td>11</td>\n      <td>11</td>\n      <td>11</td>\n      <td>11</td>\n      <td>11</td>\n      <td>11</td>\n    </tr>\n    <tr>\n      <th>Secretary of the Treasury</th>\n      <td>12</td>\n      <td>12</td>\n      <td>12</td>\n      <td>12</td>\n      <td>12</td>\n      <td>12</td>\n    </tr>\n    <tr>\n      <th>U.S. Trade Representative</th>\n      <td>12</td>\n      <td>12</td>\n      <td>12</td>\n      <td>12</td>\n      <td>12</td>\n      <td>12</td>\n    </tr>\n    <tr>\n      <th>UN Ambassador</th>\n      <td>16</td>\n      <td>16</td>\n      <td>16</td>\n      <td>16</td>\n      <td>16</td>\n      <td>16</td>\n    </tr>\n    <tr>\n      <th>Vice President</th>\n      <td>6</td>\n      <td>6</td>\n      <td>6</td>\n      <td>6</td>\n      <td>6</td>\n      <td>6</td>\n    </tr>\n  </tbody>\n</table>\n</div>"
     },
     "metadata": {},
     "output_type": "execute_result",
     "execution_count": 180
    }
   ],
   "source": [
    "df.groupby([\"position\"]).count()"
   ],
   "metadata": {
    "collapsed": false,
    "pycharm": {
     "name": "#%%\n",
     "is_executing": false
    }
   }
  },
  {
   "cell_type": "code",
   "execution_count": 181,
   "outputs": [
    {
     "data": {
      "text/plain": "<bound method Series.unique of 0                                  OMB Director\n1                   Secretary of Transportation\n2      Secretary of Health, Education & Welfare\n3      Secretary of Housing & Urban Development\n4                     Secretary of the Treasury\n                         ...                   \n289                            Attorney General\n290                        Secretary of Defense\n291                               UN Ambassador\n292                              Chief of Staff\n293                   Secretary of the Interior\nName: position, Length: 282, dtype: category\nCategories (28, object): [Attorney General, CIA Director, Chief of Staff, Director of Central Intelligence, ..., Secretary of the Treasury, U.S. Trade Representative, UN Ambassador, Vice President]>"
     },
     "metadata": {},
     "output_type": "execute_result",
     "execution_count": 181
    }
   ],
   "source": [
    "#now I need to combine position titles that are essentially the same so that I am comparing apples to apples\n",
    "\n",
    "df.position.unique"
   ],
   "metadata": {
    "collapsed": false,
    "pycharm": {
     "name": "#%%\n",
     "is_executing": false
    }
   }
  },
  {
   "cell_type": "code",
   "execution_count": 182,
   "outputs": [],
   "source": [
    "df.position.replace({'Director of Central Intelligence':\"CIA Director\",\n",
    "                     \"Director of Central Intelligence/CIA Director\":\"CIA Director\",\n",
    "                     \"Director of National Intelligence\":\"CIA Director\",\n",
    "                     \"Secretary of Health & Human Services\":\"Secretary of Health\",\n",
    "                    \"Secretary of Health, Education & Welfare\":\"Secretary of Health\",\n",
    "                     \"Secretary of Health, Education & Welfare/Secretary of Health & Human Services\":\"Secretary of Health\"\n",
    "                    },inplace=True)"
   ],
   "metadata": {
    "collapsed": false,
    "pycharm": {
     "name": "#%%\n",
     "is_executing": false
    }
   }
  },
  {
   "cell_type": "code",
   "execution_count": 183,
   "outputs": [
    {
     "data": {
      "text/plain": "president  position                                \nBush 41    Attorney General                            1\n           CIA Director                                1\n           Chief of Staff                              3\n           EPA Administrator                           1\n           OMB Director                                1\n           SBA Administrator                           2\n           Secretary of Agriculture                    2\n           Secretary of Commerce                       2\n           Secretary of Defense                        1\n           Secretary of Education                      1\n           Secretary of Energy                         1\n           Secretary of Health                         1\n           Secretary of Housing & Urban Development    1\n           Secretary of Labor                          2\n           Secretary of State                          2\n           Secretary of Transportation                 2\n           Secretary of Veterans Affairs               1\n           Secretary of the Interior                   1\n           U.S. Trade Representative                   1\n           UN Ambassador                               2\n           Vice President                              1\nBush 43    Attorney General                            3\n           CIA Director                                4\n           Chief of Staff                              2\n           EPA Administrator                           3\n           OMB Director                                4\n           SBA Administrator                           2\n           Secretary of Agriculture                    3\n           Secretary of Commerce                       2\n           Secretary of Defense                        1\n           Secretary of Education                      2\n           Secretary of Energy                         2\n           Secretary of Health                         2\n           Secretary of Homeland Security              2\n           Secretary of Housing & Urban Development    3\n           Secretary of Labor                          1\n           Secretary of State                          2\n           Secretary of Transportation                 2\n           Secretary of Veterans Affairs               3\n           Secretary of the Interior                   2\n           Secretary of the Treasury                   3\n           U.S. Trade Representative                   3\n           UN Ambassador                               4\n           Vice President                              1\nCarter     Attorney General                            2\n           CIA Director                                1\n           Chief of Staff                              2\n           EPA Administrator                           1\n           OMB Director                                2\n           SBA Administrator                           1\n           Secretary of Agriculture                    1\n           Secretary of Commerce                       2\n           Secretary of Defense                        1\n           Secretary of Education                      1\n           Secretary of Energy                         2\n           Secretary of Health                         2\n           Secretary of Housing & Urban Development    2\n           Secretary of Labor                          1\n           Secretary of State                          2\n           Secretary of Transportation                 2\n           Secretary of the Interior                   1\n           Secretary of the Treasury                   2\n           U.S. Trade Representative                   2\n           UN Ambassador                               2\n           Vice President                              1\nClinton    Attorney General                            1\n           CIA Director                                2\n           Chief of Staff                              4\n           EPA Administrator                           1\n           OMB Director                                4\n           SBA Administrator                           3\n           Secretary of Agriculture                    2\n           Secretary of Commerce                       4\n           Secretary of Defense                        3\n           Secretary of Education                      1\n           Secretary of Energy                         3\n           Secretary of Health                         1\n           Secretary of Housing & Urban Development    2\n           Secretary of Labor                          2\n           Secretary of State                          2\n           Secretary of Transportation                 2\n           Secretary of Veterans Affairs               2\n           Secretary of the Interior                   1\n           Secretary of the Treasury                   3\n           U.S. Trade Representative                   2\n           UN Ambassador                               3\n           Vice President                              1\nObama      Attorney General                            2\n           CIA Director                                5\n           Chief of Staff                              4\n           EPA Administrator                           2\n           OMB Director                                4\n           SBA Administrator                           2\n           Secretary of Agriculture                    1\n           Secretary of Commerce                       3\n           Secretary of Defense                        3\n           Secretary of Education                      2\n           Secretary of Energy                         2\n           Secretary of Health                         2\n           Secretary of Homeland Security              2\n           Secretary of Housing & Urban Development    2\n           Secretary of Labor                          2\n           Secretary of State                          2\n           Secretary of Transportation                 2\n           Secretary of Veterans Affairs               2\n           Secretary of the Interior                   2\n           Secretary of the Treasury                   2\n           U.S. Trade Representative                   2\n           UN Ambassador                               2\n           Vice President                              1\nReagan     Attorney General                            2\n           CIA Director                                1\n           Chief of Staff                              4\n           EPA Administrator                           3\n           OMB Director                                3\n           SBA Administrator                           3\n           Secretary of Agriculture                    2\n           Secretary of Commerce                       2\n           Secretary of Defense                        2\n           Secretary of Education                      2\n           Secretary of Energy                         3\n           Secretary of Health                         3\n           Secretary of Housing & Urban Development    1\n           Secretary of Labor                          3\n           Secretary of State                          2\n           Secretary of Transportation                 3\n           Secretary of the Interior                   3\n           Secretary of the Treasury                   2\n           U.S. Trade Representative                   2\n           UN Ambassador                               2\n           Vice President                              1\nTrump      Attorney General                            1\n           CIA Director                                1\n           Chief of Staff                              2\n           EPA Administrator                           1\n           Secretary of Defense                        1\n           Secretary of Health                         1\n           Secretary of Homeland Security              1\n           Secretary of State                          1\n           Secretary of Veterans Affairs               1\n           Secretary of the Interior                   1\n           UN Ambassador                               1\nName: appointee, dtype: int64"
     },
     "metadata": {},
     "output_type": "execute_result",
     "execution_count": 183
    }
   ],
   "source": [
    "df.groupby([\"president\",\"position\"])[\"appointee\"].count()"
   ],
   "metadata": {
    "collapsed": false,
    "pycharm": {
     "name": "#%%\n",
     "is_executing": false
    }
   }
  },
  {
   "cell_type": "code",
   "execution_count": 183,
   "outputs": [],
   "source": [
    "\n"
   ],
   "metadata": {
    "collapsed": false,
    "pycharm": {
     "name": "#%%\n",
     "is_executing": false
    }
   }
  }
 ],
 "metadata": {
  "kernelspec": {
   "display_name": "Python 3",
   "language": "python",
   "name": "python3"
  },
  "language_info": {
   "codemirror_mode": {
    "name": "ipython",
    "version": 2
   },
   "file_extension": ".py",
   "mimetype": "text/x-python",
   "name": "python",
   "nbconvert_exporter": "python",
   "pygments_lexer": "ipython2",
   "version": "2.7.6"
  },
  "pycharm": {
   "stem_cell": {
    "cell_type": "raw",
    "source": [],
    "metadata": {
     "collapsed": false
    }
   }
  }
 },
 "nbformat": 4,
 "nbformat_minor": 0
}